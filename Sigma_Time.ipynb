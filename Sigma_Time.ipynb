{
 "cells": [
  {
   "cell_type": "code",
   "execution_count": 2,
   "id": "41303e8c-7b5b-440f-a791-77dcbdaea17f",
   "metadata": {},
   "outputs": [],
   "source": [
    "import fenics as fe\n",
    "import matplotlib.pyplot as plt\n",
    "import numpy as np"
   ]
  },
  {
   "cell_type": "code",
   "execution_count": 11,
   "id": "483838e4-0992-4277-adac-26ea6c1b2529",
   "metadata": {},
   "outputs": [],
   "source": [
    "def D_different_sigma(sigma,x_interest,y_interest):\n",
    "    # Mesh and Finite Element Discretization\n",
    "    N_POINTS_P_AXIS = 32\n",
    "    mesh = fe.UnitSquareMesh(N_POINTS_P_AXIS, N_POINTS_P_AXIS)\n",
    "    lagrange_polynomial_space_first_order = fe.FunctionSpace(mesh, \"Lagrange\", 1)\n",
    "    \n",
    "    # Boundary Conditions\n",
    "    def boundary_boolean_function(x, on_boundary): \n",
    "        return on_boundary\n",
    "    \n",
    "    homogeneous_dirichlet_boundary_condition = fe.DirichletBC(\n",
    "        lagrange_polynomial_space_first_order,\n",
    "        fe.Constant(0.0),\n",
    "        boundary_boolean_function,\n",
    "    )\n",
    "    \n",
    "    # The initial condition\n",
    "    parameter = 10\n",
    "    x0, y0 = 0, 0  # Center of the initial condition in the unit square\n",
    "    magnitude = 1\n",
    "    initial_condition = fe.Expression(\"magnitude*(1-exp(-1/(parameter*parameter*(pow(x[0] - x0, 2) + pow(x[1] - y0, 2)))))\", \n",
    "                                      degree=2, magnitude=magnitude, parameter=parameter, x0=x0, y0=y0, domain=mesh)\n",
    "    \n",
    "    # Discretize the initial condition\n",
    "    u_old = fe.interpolate(initial_condition, lagrange_polynomial_space_first_order)\n",
    "    \n",
    "    # Parameters for the Gaussian function\n",
    "    A = 1.0          # Peak amplitude\n",
    "    x0, y0 = 0, 0  # Center of the Gaussian in the unit square\n",
    "    sigma = sigma       # Standard deviation (controls the spread)\n",
    "    \n",
    "    # Define the Gaussian diffusion coefficient\n",
    "    D = fe.Expression(\"A * exp(-((x[0] - x0)*(x[0] - x0) + (x[1] - y0)*(x[1] - y0)) / (2 * sigma))\",\n",
    "                      degree=2, A=A, x0=x0, y0=y0, sigma=sigma, domain=mesh)\n",
    "    \n",
    "    # Time-stepping parameters\n",
    "    time_step_length = 0.001\n",
    "    n_time_steps = 100\n",
    "    \n",
    "    #Create the finite element problem\n",
    "    u_trial = fe.TrialFunction(lagrange_polynomial_space_first_order)\n",
    "    v_test = fe.TestFunction(lagrange_polynomial_space_first_order)\n",
    "    \n",
    "    weak_form_residuum = (\n",
    "        (u_trial * v_test * fe.dx\n",
    "        +\n",
    "        time_step_length * (fe.dot(fe.grad(u_trial), fe.grad(D)) * v_test \n",
    "                            +\n",
    "                            D * fe.dot(fe.grad(u_trial), fe.grad(v_test))) * fe.dx)\n",
    "        -\n",
    "        (\n",
    "            u_old * v_test * fe.dx\n",
    "            +\n",
    "            time_step_length * fe.dot(fe.grad(D), fe.grad(u_trial)) * v_test * fe.dx\n",
    "        )\n",
    "    )\n",
    "    \n",
    "    #We have a linear PDE that is separable into a lhs and rhs\n",
    "    weak_form_lhs = fe.lhs(weak_form_residuum)\n",
    "    weak_form_rhs = fe.rhs(weak_form_residuum)\n",
    "    \n",
    "    # Solution function for each timestep\n",
    "    u_solution = fe.Function(lagrange_polynomial_space_first_order)\n",
    "    \n",
    "    # Define the point of interest\n",
    "    point_of_interest = (x_interest,y_interest)\n",
    "    \n",
    "    # Time-stepping loop\n",
    "    time_current = 0.0\n",
    "    value_set = []\n",
    "    for i in range(n_time_steps):\n",
    "    \n",
    "        # Solve the PDE for the current time step\n",
    "        fe.solve(weak_form_lhs == weak_form_rhs, u_solution, homogeneous_dirichlet_boundary_condition)\n",
    "\n",
    "        # Update the previous solution\n",
    "        u_old.assign(u_solution)\n",
    "        \n",
    "        # Extract the solution at the specific point and store it\n",
    "        point_value = u_solution(point_of_interest)\n",
    "        value_set.append(point_value)\n",
    "\n",
    "        time_current += time_step_length\n",
    "\n",
    "    time = time_step_length*value_set.index(max(value_set))\n",
    "    return time"
   ]
  },
  {
   "cell_type": "code",
   "execution_count": 17,
   "id": "d86b88d4-4bab-4ea0-91a6-edfe279a7c4d",
   "metadata": {},
   "outputs": [
    {
     "data": {
      "image/png": "[encoded data removed]",
      "text/plain": [
       "<Figure size 640x480 with 1 Axes>"
      ]
     },
     "metadata": {},
     "output_type": "display_data"
    }
   ],
   "source": [
    "# Got time and sigma variation\n",
    "Time = []\n",
    "sigma = []\n",
    "point_of_interest = [[0,0],[0.25,0.25],[0.5,0.5],[1,1]]\n",
    "color = ['r','b','g','y']\n",
    "m = 0\n",
    "for k in point_of_interest:\n",
    "    color_i = color[m]\n",
    "    m += 1\n",
    "    for i in np.linspace(0.01,1,20):\n",
    "        sigma.append(i)\n",
    "        Time.append(D_different_sigma(i,k[0],k[1]))\n",
    "        plt.plot(sigma, Time, color_i)\n",
    "        plt.xlabel(\"Gaussian_Sigma_Value\")\n",
    "        plt.ylabel(\"Time_spend\")\n",
    "    sigma = []\n",
    "    Time = []\n",
    "plt.show()"
   ]
  },
  {
   "cell_type": "code",
   "execution_count": null,
   "id": "53230088-3ca2-4953-a932-07964dc67b21",
   "metadata": {},
   "outputs": [],
   "source": []
  }
 ],
 "metadata": {
  "kernelspec": {
   "display_name": "Python 3 (ipykernel)",
   "language": "python",
   "name": "python3"
  },
  "language_info": {
   "codemirror_mode": {
    "name": "ipython",
    "version": 3
   },
   "file_extension": ".py",
   "mimetype": "text/x-python",
   "name": "python",
   "nbconvert_exporter": "python",
   "pygments_lexer": "ipython3",
   "version": "3.11.10"
  }
 },
 "nbformat": 4,
 "nbformat_minor": 5
}
